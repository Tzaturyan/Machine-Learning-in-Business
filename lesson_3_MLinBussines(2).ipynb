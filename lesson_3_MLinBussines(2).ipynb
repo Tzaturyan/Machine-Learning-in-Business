{
 "cells": [
  {
   "cell_type": "code",
   "execution_count": 1,
   "metadata": {
    "executionInfo": {
     "elapsed": 1312,
     "status": "ok",
     "timestamp": 1648561391499,
     "user": {
      "displayName": "Андрей Опанасенко",
      "userId": "02791494231888397969"
     },
     "user_tz": -180
    },
    "id": "bBS0BM9ruTGM"
   },
   "outputs": [],
   "source": [
    "import pandas as pd\n",
    "import matplotlib.pyplot as plt\n",
    "import seaborn as sns\n",
    "import numpy as np\n",
    "import itertools\n",
    "from sklearn.metrics import precision_recall_curve, roc_curve, roc_auc_score, confusion_matrix\n",
    "from sklearn.model_selection import cross_val_score, train_test_split\n",
    "\n",
    "from sklearn.pipeline import Pipeline, make_pipeline\n",
    "from sklearn.base import BaseEstimator, TransformerMixin\n",
    "\n",
    "from sklearn.linear_model import LogisticRegression"
   ]
  },
  {
   "cell_type": "markdown",
   "metadata": {
    "id": "VUsXReyBuTOB"
   },
   "source": [
    "## Домашнее задание"
   ]
  },
  {
   "cell_type": "markdown",
   "metadata": {
    "id": "-B3d5AfduTOC"
   },
   "source": [
    "1. Обучить несколько разных моделей на наборе данных ССЗ (train_case2.csv): логрег, бустинг, лес и т.д - на ваш выбор 2-3 варианта\n",
    "2. Вывести сравнение полученных моделей по основным метрикам классификации: pr/rec/auc/f_score (можно в виде таблицы, где строки - модели, а столбцы - метрики)\n",
    "3. Вывести сравнение полученных моделей по метрикам бизнеса по показателям с урока\n",
    "    - стоимость лечения 15000р, если сделали тест и начали лечить вовремя\n",
    "    - стоимость лечения 20000р, если упустили и начали лечить когда уже проявились все симптомы\n",
    "    - стоимость теста 1400р\n",
    "4. Сделать выводы о том, какая модель справилась с задачей лучше других\n",
    "5. *Найти порог классификации по деньгам для лучшей модели\n",
    "    - Стоимость лечения 15000р, если сделали тест и начали лечить вовремя\n",
    "    - Стоимость лечения 20000р, если упустили и начали лечить когда уже проявились все симптомы\n",
    "    - Стоимость теста 1400р"
   ]
  },
  {
   "cell_type": "markdown",
   "metadata": {
    "id": "Kbmrslwr69N-"
   },
   "source": [
    "##Повторение кода с урока"
   ]
  },
  {
   "cell_type": "markdown",
   "metadata": {
    "id": "fHVSaRVCuTMV"
   },
   "source": [
    "В рамках конкурса вам нужно предсказать наличие сердечно-сосудистых заболеваний по результатам классического врачебного осмотра. Датасет сформирован из 100.000 реальных клинических анализов, и в нём используются признаки, которые можно разбить на 3 группы:\n",
    "\n",
    " \n",
    "\n",
    "Объективные признаки:\n",
    "\n",
    " - Возраст\n",
    " - Рост\n",
    " - Вес\n",
    " - Пол\n",
    " \n",
    "\n",
    "Результаты измерения:\n",
    "\n",
    " - Артериальное давление верхнее и нижнее\n",
    " - Холестерин\n",
    " - Глюкоза\n",
    " \n",
    "\n",
    "Субъективные признаки:\n",
    "\n",
    " - Курение\n",
    " - Употребление Алкоголя\n",
    " - Физическая активность\n",
    " \n",
    "\n",
    "Возраст дан в днях. Значения показателей холестерина и глюкозы представлены одним из трех классов: норма, выше нормы, значительно выше нормы. Значения субъективных признаков — бинарны.\n",
    "\n",
    "Все показатели даны на момент осмотра."
   ]
  },
  {
   "cell_type": "markdown",
   "metadata": {
    "id": "uOepmUfRuTMi"
   },
   "source": [
    "Таргет - наличие сердечно-сосудистых заболеваний (ССЗ)"
   ]
  },
  {
   "cell_type": "markdown",
   "metadata": {
    "id": "FkGlZFSjdPhi"
   },
   "source": [
    "Ссылка на google drive: https://drive.google.com/file/d/1Si4EJ_RexI3Q7yZU8eLjgp4ORe_BXr4G"
   ]
  },
  {
   "cell_type": "code",
   "execution_count": null,
   "metadata": {
    "colab": {
     "base_uri": "https://localhost:8080/"
    },
    "executionInfo": {
     "elapsed": 1835,
     "status": "ok",
     "timestamp": 1648564292912,
     "user": {
      "displayName": "Андрей Опанасенко",
      "userId": "02791494231888397969"
     },
     "user_tz": -180
    },
    "id": "ttqVNPeaJm7G",
    "outputId": "42e6893a-e400-41d2-d361-f3781731bbb5"
   },
   "outputs": [],
   "source": [
    "!wget 'https://drive.google.com/uc?export=download&id=1Si4EJ_RexI3Q7yZU8eLjgp4ORe_BXr4G' -O train_case2.csv"
   ]
  },
  {
   "cell_type": "code",
   "execution_count": 14,
   "metadata": {
    "colab": {
     "base_uri": "https://localhost:8080/",
     "height": 0
    },
    "executionInfo": {
     "elapsed": 7,
     "status": "ok",
     "timestamp": 1648564292912,
     "user": {
      "displayName": "Андрей Опанасенко",
      "userId": "02791494231888397969"
     },
     "user_tz": -180
    },
    "id": "eyWhvm-wuTMl",
    "outputId": "5fe08f9a-513b-45f0-b7c3-c90fb419a98e"
   },
   "outputs": [
    {
     "data": {
      "text/html": [
       "<div>\n",
       "<style scoped>\n",
       "    .dataframe tbody tr th:only-of-type {\n",
       "        vertical-align: middle;\n",
       "    }\n",
       "\n",
       "    .dataframe tbody tr th {\n",
       "        vertical-align: top;\n",
       "    }\n",
       "\n",
       "    .dataframe thead th {\n",
       "        text-align: right;\n",
       "    }\n",
       "</style>\n",
       "<table border=\"1\" class=\"dataframe\">\n",
       "  <thead>\n",
       "    <tr style=\"text-align: right;\">\n",
       "      <th></th>\n",
       "      <th>id</th>\n",
       "      <th>age</th>\n",
       "      <th>gender</th>\n",
       "      <th>height</th>\n",
       "      <th>weight</th>\n",
       "      <th>ap_hi</th>\n",
       "      <th>ap_lo</th>\n",
       "      <th>cholesterol</th>\n",
       "      <th>gluc</th>\n",
       "      <th>smoke</th>\n",
       "      <th>alco</th>\n",
       "      <th>active</th>\n",
       "      <th>cardio</th>\n",
       "    </tr>\n",
       "  </thead>\n",
       "  <tbody>\n",
       "    <tr>\n",
       "      <th>0</th>\n",
       "      <td>0</td>\n",
       "      <td>18393</td>\n",
       "      <td>2</td>\n",
       "      <td>168</td>\n",
       "      <td>62.0</td>\n",
       "      <td>110</td>\n",
       "      <td>80</td>\n",
       "      <td>1</td>\n",
       "      <td>1</td>\n",
       "      <td>0</td>\n",
       "      <td>0</td>\n",
       "      <td>1</td>\n",
       "      <td>0</td>\n",
       "    </tr>\n",
       "    <tr>\n",
       "      <th>1</th>\n",
       "      <td>1</td>\n",
       "      <td>20228</td>\n",
       "      <td>1</td>\n",
       "      <td>156</td>\n",
       "      <td>85.0</td>\n",
       "      <td>140</td>\n",
       "      <td>90</td>\n",
       "      <td>3</td>\n",
       "      <td>1</td>\n",
       "      <td>0</td>\n",
       "      <td>0</td>\n",
       "      <td>1</td>\n",
       "      <td>1</td>\n",
       "    </tr>\n",
       "    <tr>\n",
       "      <th>2</th>\n",
       "      <td>2</td>\n",
       "      <td>18857</td>\n",
       "      <td>1</td>\n",
       "      <td>165</td>\n",
       "      <td>64.0</td>\n",
       "      <td>130</td>\n",
       "      <td>70</td>\n",
       "      <td>3</td>\n",
       "      <td>1</td>\n",
       "      <td>0</td>\n",
       "      <td>0</td>\n",
       "      <td>0</td>\n",
       "      <td>1</td>\n",
       "    </tr>\n",
       "  </tbody>\n",
       "</table>\n",
       "</div>"
      ],
      "text/plain": [
       "   id    age  gender  height  weight  ap_hi  ap_lo  cholesterol  gluc  smoke  \\\n",
       "0   0  18393       2     168    62.0    110     80            1     1      0   \n",
       "1   1  20228       1     156    85.0    140     90            3     1      0   \n",
       "2   2  18857       1     165    64.0    130     70            3     1      0   \n",
       "\n",
       "   alco  active  cardio  \n",
       "0     0       1       0  \n",
       "1     0       1       1  \n",
       "2     0       0       1  "
      ]
     },
     "execution_count": 14,
     "metadata": {},
     "output_type": "execute_result"
    }
   ],
   "source": [
    "df = pd.read_csv('C:/Users/1/Downloads/train_case2.csv', ';')\n",
    "df.head(3)"
   ]
  },
  {
   "cell_type": "markdown",
   "metadata": {
    "id": "mslyI3rkuTMq"
   },
   "source": [
    "Разделим наши данные на тренировочную и тестовую выборки"
   ]
  },
  {
   "cell_type": "code",
   "execution_count": 15,
   "metadata": {
    "executionInfo": {
     "elapsed": 5,
     "status": "ok",
     "timestamp": 1648564292912,
     "user": {
      "displayName": "Андрей Опанасенко",
      "userId": "02791494231888397969"
     },
     "user_tz": -180
    },
    "id": "8y5FPlYsuTMw"
   },
   "outputs": [],
   "source": [
    "# разделим данные на train/test\n",
    "X_train, X_test, y_train, y_test = train_test_split(df.drop(columns='cardio'), \n",
    "                                                    df['cardio'], random_state=0)"
   ]
  },
  {
   "cell_type": "markdown",
   "metadata": {
    "id": "iz0zpgeQuTMx"
   },
   "source": [
    "К полям:\n",
    "- gender, cholesterol применим OHE-кодирование\n",
    "- age, height, weight, ap_hi, ap_lo - standardScaler\n",
    "- gluc, smoke, alco, active - оставим пока как есть"
   ]
  },
  {
   "cell_type": "code",
   "execution_count": 16,
   "metadata": {
    "executionInfo": {
     "elapsed": 6,
     "status": "ok",
     "timestamp": 1648564292913,
     "user": {
      "displayName": "Андрей Опанасенко",
      "userId": "02791494231888397969"
     },
     "user_tz": -180
    },
    "id": "NZzwZ0DzuTM6"
   },
   "outputs": [],
   "source": [
    "class ColumnSelector(BaseEstimator, TransformerMixin):\n",
    "    \"\"\"\n",
    "    Transformer to select a single column from the data frame to perform additional transformations on\n",
    "    \"\"\"\n",
    "    def __init__(self, key):\n",
    "        self.key = key\n",
    "\n",
    "    def fit(self, X, y=None):\n",
    "        return self\n",
    "\n",
    "    def transform(self, X):\n",
    "        return X[self.key]\n",
    "    \n",
    "class NumberSelector(BaseEstimator, TransformerMixin):\n",
    "    \"\"\"\n",
    "    Transformer to select a single column from the data frame to perform additional transformations on\n",
    "    Use on numeric columns in the data\n",
    "    \"\"\"\n",
    "    def __init__(self, key):\n",
    "        self.key = key\n",
    "\n",
    "    def fit(self, X, y=None):\n",
    "        return self\n",
    "\n",
    "    def transform(self, X):\n",
    "        return X[[self.key]]\n",
    "    \n",
    "class OHEEncoder(BaseEstimator, TransformerMixin):\n",
    "    def __init__(self, key):\n",
    "        self.key = key\n",
    "        self.columns = []\n",
    "\n",
    "    def fit(self, X, y=None):\n",
    "        self.columns = [col for col in pd.get_dummies(X, prefix=self.key).columns]\n",
    "        return self\n",
    "\n",
    "    def transform(self, X):\n",
    "        X = pd.get_dummies(X, prefix=self.key)\n",
    "        test_columns = [col for col in X.columns]\n",
    "        for col_ in self.columns:\n",
    "            if col_ not in test_columns:\n",
    "                X[col_] = 0\n",
    "        return X[self.columns]\n",
    "\n",
    "\n",
    "from sklearn.preprocessing import StandardScaler\n",
    "\n",
    "continuos_cols = ['age', 'height', 'weight', 'ap_hi', 'ap_lo']\n",
    "cat_cols = ['gender', 'cholesterol']\n",
    "base_cols = ['gluc', 'smoke', 'alco', 'active']\n",
    "\n",
    "continuos_transformers = []\n",
    "cat_transformers = []\n",
    "base_transformers = []\n",
    "\n",
    "for cont_col in continuos_cols:\n",
    "    transfomer =  Pipeline([\n",
    "                ('selector', NumberSelector(key=cont_col)),\n",
    "                ('standard', StandardScaler())\n",
    "            ])\n",
    "    continuos_transformers.append((cont_col, transfomer))\n",
    "    \n",
    "for cat_col in cat_cols:\n",
    "    cat_transformer = Pipeline([\n",
    "                ('selector', ColumnSelector(key=cat_col)),\n",
    "                ('ohe', OHEEncoder(key=cat_col))\n",
    "            ])\n",
    "    cat_transformers.append((cat_col, cat_transformer))\n",
    "    \n",
    "for base_col in base_cols:\n",
    "    base_transformer = Pipeline([\n",
    "                ('selector', NumberSelector(key=base_col))\n",
    "            ])\n",
    "    base_transformers.append((base_col, base_transformer))"
   ]
  },
  {
   "cell_type": "markdown",
   "metadata": {
    "id": "kqbcTHEauTNC"
   },
   "source": [
    "Теперь объединим все наши трансформеры с помощью FeatureUnion"
   ]
  },
  {
   "cell_type": "code",
   "execution_count": 17,
   "metadata": {
    "colab": {
     "base_uri": "https://localhost:8080/"
    },
    "executionInfo": {
     "elapsed": 376,
     "status": "ok",
     "timestamp": 1648564293283,
     "user": {
      "displayName": "Андрей Опанасенко",
      "userId": "02791494231888397969"
     },
     "user_tz": -180
    },
    "id": "UrSLisPTuTNE",
    "outputId": "9d1a6b44-29af-4eed-e10f-91fbea719ed7"
   },
   "outputs": [
    {
     "data": {
      "text/plain": [
       "array([[-1.73391771,  0.6873301 ,  0.74843904, ...,  1.        ,\n",
       "         0.        ,  1.        ],\n",
       "       [-1.67343538,  0.07758923, -0.29640123, ...,  0.        ,\n",
       "         0.        ,  1.        ],\n",
       "       [ 0.13738132,  1.17512278, -0.15708919, ...,  0.        ,\n",
       "         0.        ,  0.        ],\n",
       "       ...,\n",
       "       [ 1.17775864,  1.17512278, -0.15708919, ...,  0.        ,\n",
       "         0.        ,  1.        ],\n",
       "       [-0.47190715, -1.38578883,  0.74843904, ...,  0.        ,\n",
       "         0.        ,  1.        ],\n",
       "       [ 0.38174619,  0.56538192, -0.08743318, ...,  0.        ,\n",
       "         0.        ,  1.        ]])"
      ]
     },
     "execution_count": 17,
     "metadata": {},
     "output_type": "execute_result"
    }
   ],
   "source": [
    "from sklearn.pipeline import FeatureUnion\n",
    "\n",
    "feats = FeatureUnion(continuos_transformers+cat_transformers+base_transformers)\n",
    "feature_processing = Pipeline([('feats', feats)])\n",
    "\n",
    "feature_processing.fit_transform(X_train)"
   ]
  },
  {
   "cell_type": "markdown",
   "metadata": {
    "id": "gq_x1pNFuTNU"
   },
   "source": [
    "## Обучение моделей"
   ]
  },
  {
   "cell_type": "code",
   "execution_count": 18,
   "metadata": {
    "executionInfo": {
     "elapsed": 250,
     "status": "ok",
     "timestamp": 1648562755569,
     "user": {
      "displayName": "Андрей Опанасенко",
      "userId": "02791494231888397969"
     },
     "user_tz": -180
    },
    "id": "I2w8Kbqo8_ow"
   },
   "outputs": [],
   "source": [
    "import xgboost as xgb\n",
    "from sklearn.ensemble import RandomForestClassifier as rfc"
   ]
  },
  {
   "cell_type": "code",
   "execution_count": 34,
   "metadata": {
    "executionInfo": {
     "elapsed": 438,
     "status": "ok",
     "timestamp": 1648577453939,
     "user": {
      "displayName": "Андрей Опанасенко",
      "userId": "02791494231888397969"
     },
     "user_tz": -180
    },
    "id": "1611alE9uTNW"
   },
   "outputs": [],
   "source": [
    "def model_cv_score(model, rubl_test = 1400, rubl_early_treatment = 15000, rubl_late_treatment = 20000):\n",
    "\n",
    "    print(f'\\n{\"*\"*100}\\nМодель: {model}\\n')\n",
    "  \n",
    "    if model == 'LogisticRegression':\n",
    "        classifier = Pipeline([\n",
    "        ('features', feats),\n",
    "        ('classifier', LogisticRegression(random_state=42))\n",
    "])\n",
    "\n",
    "    elif model == 'XGBoost':\n",
    "        classifier = Pipeline([\n",
    "        ('features', feats),\n",
    "        ('classifier', xgb.XGBClassifier(random_state=42, n_estimators=100))\n",
    "    ])  \n",
    "    elif model == 'RandomForest':\n",
    "        classifier = Pipeline([\n",
    "        ('features', feats),\n",
    "        ('classifier', rfc(random_state=42))\n",
    "])\n",
    "\n",
    "  # запустим кросс-валидацию\n",
    "    cv_scores = cross_val_score(classifier, X_train, y_train, cv=7, scoring='roc_auc')\n",
    "    cv_score = np.mean(cv_scores)\n",
    "    cv_score_std = np.std(cv_scores)\n",
    "    print(f'\\nCV score is {cv_score}+-{cv_score_std}')\n",
    "\n",
    "  # обучим пайплайн на всем тренировочном датасете\n",
    "    classifier.fit(X_train, y_train)\n",
    "    y_score = classifier.predict_proba(X_test)[:, 1]\n",
    "    print(y_score)\n",
    "\n",
    "    b = 1\n",
    "    precision, recall, thresholds = precision_recall_curve(y_test.values, y_score)\n",
    "    fscore = (1 +b**2) * (precision * recall) / (b**2 * precision + recall)\n",
    "    # locate the index of the largest f score\n",
    "    ix = np.argmax(fscore)\n",
    "    print(f'\\nBest Threshold={thresholds[ix]}, F-Score={fscore[ix]:.3f}, Precision={precision[ix]:.3f}, Recall={recall[ix]:.3f}')\n",
    "\n",
    "    roc_auc_score_train = roc_auc_score(y_train, classifier.predict_proba(X_train)[:, 1])\n",
    "    roc_auc_score_test = roc_auc_score(y_test, classifier.predict_proba(X_test)[:, 1])\n",
    "\n",
    "    print(f\"\\nroc auc score train: {roc_auc_score_train}\")\n",
    "    print(f\"roc auc score: {roc_auc_score_test}\")\n",
    "\n",
    "    cnf_matrix = confusion_matrix(y_test, y_score > thresholds[ix])\n",
    "\n",
    "    TN = cnf_matrix[0][0]\n",
    "    FN = cnf_matrix[1][0]\n",
    "    TP = cnf_matrix[1][1]\n",
    "    FP = cnf_matrix[0][1]\n",
    "\n",
    "    rubl_1 = (FN + TP) * rubl_late_treatment\n",
    "    print('\\nрасходы, если не делать тест и ждать симптомов:', rubl_1)  \n",
    "    rubl_test_all = np.sum(cnf_matrix) * rubl_test + (FN + TP) * rubl_early_treatment\n",
    "    print('расходы, если делать тест всем и лечить группу большых:', rubl_test_all)\n",
    "    rubl_ML = (FP + TP) * rubl_test + FN * rubl_late_treatment + TP * rubl_early_treatment\n",
    "    print('расходы, если использовать МЛ:', rubl_ML)\n",
    "    print('\\nРасходы \"решение не делать тесты - расходы с МL:\"', rubl_1 - rubl_ML)\n",
    "    print('Расходы \"решение не делать тесты - расходы сделать тесты всем\":', rubl_1 - rubl_test_all)\n",
    "    print('Расходы \"сделать тесты всем - решение делать тесты ML\":', rubl_test_all - rubl_ML)\n",
    "\n",
    "    return cv_score, precision[ix], recall[ix], fscore[ix], roc_auc_score_test, TN, FN, TP, FP, cnf_matrix, y_score"
   ]
  },
  {
   "cell_type": "code",
   "execution_count": 35,
   "metadata": {
    "colab": {
     "base_uri": "https://localhost:8080/"
    },
    "executionInfo": {
     "elapsed": 83572,
     "status": "ok",
     "timestamp": 1648577539187,
     "user": {
      "displayName": "Андрей Опанасенко",
      "userId": "02791494231888397969"
     },
     "user_tz": -180
    },
    "id": "KqABQtmA8u_E",
    "outputId": "35009d5e-eaff-4516-f139-82a37a3fd343"
   },
   "outputs": [
    {
     "name": "stdout",
     "output_type": "stream",
     "text": [
      "\n",
      "****************************************************************************************************\n",
      "Модель: LogisticRegression\n",
      "\n",
      "\n",
      "CV score is 0.7864573689384385+-0.004422021036885763\n",
      "[0.21919629 0.24759828 0.40484498 ... 0.16941878 0.70519218 0.75098778]\n",
      "\n",
      "Best Threshold=0.38693708911473756, F-Score=0.730, Precision=0.647, Recall=0.838\n",
      "\n",
      "roc auc score train: 0.7870081561637485\n",
      "roc auc score: 0.7840347790421852\n",
      "\n",
      "расходы, если не делать тест и ждать симптомов: 173600000\n",
      "расходы, если делать тест всем и лечить группу большых: 154700000\n",
      "расходы, если использовать МЛ: 152974200\n",
      "\n",
      "Расходы \"решение не делать тесты - расходы с МL:\" 20625800\n",
      "Расходы \"решение не делать тесты - расходы сделать тесты всем\": 18900000\n",
      "Расходы \"сделать тесты всем - решение делать тесты ML\": 1725800\n",
      "\n",
      "****************************************************************************************************\n",
      "Модель: XGBoost\n",
      "\n",
      "\n",
      "CV score is 0.7971556462159913+-0.0025807632015828223\n",
      "[0.1436425  0.19032502 0.35400474 ... 0.11356659 0.7726439  0.7560294 ]\n",
      "\n",
      "Best Threshold=0.3471032381057739, F-Score=0.738, Precision=0.665, Recall=0.828\n",
      "\n",
      "roc auc score train: 0.8474933410706749\n",
      "roc auc score: 0.797227760535858\n",
      "\n",
      "расходы, если не делать тест и ждать симптомов: 173600000\n",
      "расходы, если делать тест всем и лечить группу большых: 154700000\n",
      "расходы, если использовать МЛ: 152784800\n",
      "\n",
      "Расходы \"решение не делать тесты - расходы с МL:\" 20815200\n",
      "Расходы \"решение не делать тесты - расходы сделать тесты всем\": 18900000\n",
      "Расходы \"сделать тесты всем - решение делать тесты ML\": 1915200\n",
      "\n",
      "****************************************************************************************************\n",
      "Модель: RandomForest\n",
      "\n",
      "\n",
      "CV score is 0.7743796633622809+-0.003611330100912611\n",
      "[0.31 0.17 0.03 ... 0.05 0.82 0.73]\n",
      "\n",
      "Best Threshold=0.35, F-Score=0.719, Precision=0.643, Recall=0.816\n",
      "\n",
      "roc auc score train: 0.9999996132412827\n",
      "roc auc score: 0.7710366181802983\n",
      "\n",
      "расходы, если не делать тест и ждать симптомов: 173600000\n",
      "расходы, если делать тест всем и лечить группу большых: 154700000\n",
      "расходы, если использовать МЛ: 153699400\n",
      "\n",
      "Расходы \"решение не делать тесты - расходы с МL:\" 19900600\n",
      "Расходы \"решение не делать тесты - расходы сделать тесты всем\": 18900000\n",
      "Расходы \"сделать тесты всем - решение делать тесты ML\": 1000600\n"
     ]
    }
   ],
   "source": [
    "result = dict()\n",
    "for model in ['LogisticRegression', 'XGBoost', 'RandomForest']:\n",
    "    result[model] = model_cv_score(model)"
   ]
  },
  {
   "cell_type": "code",
   "execution_count": 36,
   "metadata": {
    "colab": {
     "base_uri": "https://localhost:8080/",
     "height": 143
    },
    "executionInfo": {
     "elapsed": 299,
     "status": "ok",
     "timestamp": 1648578454186,
     "user": {
      "displayName": "Андрей Опанасенко",
      "userId": "02791494231888397969"
     },
     "user_tz": -180
    },
    "id": "A-d8NLlGzelr",
    "outputId": "91b7157a-bf64-4166-ef6d-5b3b3e4183fc"
   },
   "outputs": [
    {
     "data": {
      "text/html": [
       "<div>\n",
       "<style scoped>\n",
       "    .dataframe tbody tr th:only-of-type {\n",
       "        vertical-align: middle;\n",
       "    }\n",
       "\n",
       "    .dataframe tbody tr th {\n",
       "        vertical-align: top;\n",
       "    }\n",
       "\n",
       "    .dataframe thead th {\n",
       "        text-align: right;\n",
       "    }\n",
       "</style>\n",
       "<table border=\"1\" class=\"dataframe\">\n",
       "  <thead>\n",
       "    <tr style=\"text-align: right;\">\n",
       "      <th></th>\n",
       "      <th>cv_score</th>\n",
       "      <th>precision</th>\n",
       "      <th>recall</th>\n",
       "      <th>fscore</th>\n",
       "      <th>roc_auc_score_test</th>\n",
       "      <th>TN</th>\n",
       "      <th>FN</th>\n",
       "      <th>TP</th>\n",
       "      <th>FP</th>\n",
       "    </tr>\n",
       "  </thead>\n",
       "  <tbody>\n",
       "    <tr>\n",
       "      <th>LogisticRegression</th>\n",
       "      <td>0.786457</td>\n",
       "      <td>0.647431</td>\n",
       "      <td>0.837558</td>\n",
       "      <td>0.730323</td>\n",
       "      <td>0.784035</td>\n",
       "      <td>4861</td>\n",
       "      <td>1411</td>\n",
       "      <td>7269</td>\n",
       "      <td>3959</td>\n",
       "    </tr>\n",
       "    <tr>\n",
       "      <th>XGBoost</th>\n",
       "      <td>0.797156</td>\n",
       "      <td>0.665248</td>\n",
       "      <td>0.828341</td>\n",
       "      <td>0.737890</td>\n",
       "      <td>0.797228</td>\n",
       "      <td>5202</td>\n",
       "      <td>1491</td>\n",
       "      <td>7189</td>\n",
       "      <td>3618</td>\n",
       "    </tr>\n",
       "    <tr>\n",
       "      <th>RandomForest</th>\n",
       "      <td>0.774380</td>\n",
       "      <td>0.642669</td>\n",
       "      <td>0.815553</td>\n",
       "      <td>0.718863</td>\n",
       "      <td>0.771037</td>\n",
       "      <td>4991</td>\n",
       "      <td>1663</td>\n",
       "      <td>7017</td>\n",
       "      <td>3829</td>\n",
       "    </tr>\n",
       "  </tbody>\n",
       "</table>\n",
       "</div>"
      ],
      "text/plain": [
       "                    cv_score  precision    recall    fscore  \\\n",
       "LogisticRegression  0.786457   0.647431  0.837558  0.730323   \n",
       "XGBoost             0.797156   0.665248  0.828341  0.737890   \n",
       "RandomForest        0.774380   0.642669  0.815553  0.718863   \n",
       "\n",
       "                    roc_auc_score_test    TN    FN    TP    FP  \n",
       "LogisticRegression            0.784035  4861  1411  7269  3959  \n",
       "XGBoost                       0.797228  5202  1491  7189  3618  \n",
       "RandomForest                  0.771037  4991  1663  7017  3829  "
      ]
     },
     "execution_count": 36,
     "metadata": {},
     "output_type": "execute_result"
    }
   ],
   "source": [
    "columns = ['cv_score', 'precision', 'recall', 'fscore', 'roc_auc_score_test', 'TN', 'FN', 'TP', 'FP']\n",
    "index = [x for x in result.keys()]\n",
    "result_df = pd.DataFrame([x[:9] for x in list(result.values())], index = index, columns = columns)\n",
    "result_df"
   ]
  },
  {
   "cell_type": "markdown",
   "metadata": {
    "id": "iNIZKn5REJOH"
   },
   "source": [
    "Logistic Regression и Random Forest показывают сопоставимые результаты, в то время как XGBoost максиммизируя roc_auc избрала тактику всех пациентов записывать в здоровые. Попробуем для всех моделей оптимизировать порог \"с точки зрения денег\"."
   ]
  },
  {
   "cell_type": "code",
   "execution_count": 37,
   "metadata": {
    "executionInfo": {
     "elapsed": 265,
     "status": "ok",
     "timestamp": 1648581201511,
     "user": {
      "displayName": "Андрей Опанасенко",
      "userId": "02791494231888397969"
     },
     "user_tz": -180
    },
    "id": "wUdTFxtaRFOn"
   },
   "outputs": [],
   "source": [
    "def business_threshold_calibrate(model, y_test, y_score,cnf_matrix,\n",
    "                                 rubl_test=100, rubl_early_treatment=100, rubl_late_treatment=1000):\n",
    "    print(f'{\"*\"*100}\\nДля модели {model}\\n{\"*\"*100}\\n')\n",
    "    \n",
    "    business_threshold = 0\n",
    "    r_test_all_r_ML_ = 0\n",
    "\n",
    "    rubl_ML_ = 1_000_000_000 \n",
    "\n",
    "    rs = []\n",
    "    n = 20\n",
    "    for opt_buisness_tr in np.linspace(0, 1, n).tolist():\n",
    "        # подберем порог для улучшения бизнесс показателя\n",
    "\n",
    "        cnf_matrix = confusion_matrix(y_test, y_score > (opt_buisness_tr))\n",
    "        TN = cnf_matrix[0][0]\n",
    "        FN = cnf_matrix[1][0]\n",
    "        TP = cnf_matrix[1][1]\n",
    "        FP = cnf_matrix[0][1]\n",
    "\n",
    "        rubl_1 = (TP + FN) * rubl_late_treatment\n",
    "        rubl_test_all = np.sum(cnf_matrix) * rubl_test + (FN + TP) * rubl_early_treatment\n",
    "        rubl_ML = (TP + FP) * rubl_test + FN * rubl_late_treatment + TP * rubl_early_treatment\n",
    "        \n",
    "        r_test_all_r_ML = rubl_test_all - rubl_ML \n",
    "        \n",
    "        if rubl_ML < rubl_ML_:            \n",
    "            business_threshold = opt_buisness_tr\n",
    "            \n",
    "            rubl_ML_ = rubl_ML\n",
    "            \n",
    "        rs.append(rubl_ML)   \n",
    "            \n",
    "    \n",
    "    print('расходы, если не делать тест и ждать симптомов:', rubl_1)\n",
    "    print('расходы, если делать тест всем и лечить группу больных:', rubl_test_all)\n",
    "    print('расходы, если использовать МЛ:', rubl_ML_)\n",
    "\n",
    "    print('Расходы \"решение не делать тесты - расходы с МL:\"', rubl_1 - rubl_ML_)\n",
    "    print('Расходы \"решение не делать тесты - расходы сделать тесты всем\":', rubl_1 - rubl_test_all)\n",
    "    print('Расходы \"сделать тесты всем - решение делать тесты ML\":', rubl_test_all - rubl_ML_)\n",
    "    \n",
    "    plt.title('Потери при МЛ решении')\n",
    "    plt.xlabel('Отсечка')\n",
    "    plt.ylabel('Потери')\n",
    "    plt.plot(np.linspace(0,1,n), rs)\n",
    "    plt.show()\n",
    "    return business_threshold"
   ]
  },
  {
   "cell_type": "code",
   "execution_count": 38,
   "metadata": {
    "colab": {
     "base_uri": "https://localhost:8080/",
     "height": 1000
    },
    "executionInfo": {
     "elapsed": 844,
     "status": "ok",
     "timestamp": 1648581234232,
     "user": {
      "displayName": "Андрей Опанасенко",
      "userId": "02791494231888397969"
     },
     "user_tz": -180
    },
    "id": "DWjMCian9end",
    "outputId": "a51d671d-e46e-4f65-940a-230f82250256"
   },
   "outputs": [
    {
     "name": "stdout",
     "output_type": "stream",
     "text": [
      "****************************************************************************************************\n",
      "Для модели LogisticRegression\n",
      "****************************************************************************************************\n",
      "\n",
      "расходы, если не делать тест и ждать симптомов: 173600000\n",
      "расходы, если делать тест всем и лечить группу больных: 154700000\n",
      "расходы, если использовать МЛ: 152712400\n",
      "Расходы \"решение не делать тесты - расходы с МL:\" 20887600\n",
      "Расходы \"решение не делать тесты - расходы сделать тесты всем\": 18900000\n",
      "Расходы \"сделать тесты всем - решение делать тесты ML\": 1987600\n"
     ]
    },
    {
     "data": {
      "image/png": "[encoded data removed]",
      "text/plain": [
       "<Figure size 432x288 with 1 Axes>"
      ]
     },
     "metadata": {
      "needs_background": "light"
     },
     "output_type": "display_data"
    },
    {
     "name": "stdout",
     "output_type": "stream",
     "text": [
      "****************************************************************************************************\n",
      "Для модели XGBoost\n",
      "****************************************************************************************************\n",
      "\n",
      "расходы, если не делать тест и ждать симптомов: 173600000\n",
      "расходы, если делать тест всем и лечить группу больных: 154700000\n",
      "расходы, если использовать МЛ: 152509800\n",
      "Расходы \"решение не делать тесты - расходы с МL:\" 21090200\n",
      "Расходы \"решение не делать тесты - расходы сделать тесты всем\": 18900000\n",
      "Расходы \"сделать тесты всем - решение делать тесты ML\": 2190200\n"
     ]
    },
    {
     "data": {
      "image/png": "[encoded data removed]",
      "text/plain": [
       "<Figure size 432x288 with 1 Axes>"
      ]
     },
     "metadata": {
      "needs_background": "light"
     },
     "output_type": "display_data"
    },
    {
     "name": "stdout",
     "output_type": "stream",
     "text": [
      "****************************************************************************************************\n",
      "Для модели RandomForest\n",
      "****************************************************************************************************\n",
      "\n",
      "расходы, если не делать тест и ждать симптомов: 173600000\n",
      "расходы, если делать тест всем и лечить группу больных: 154700000\n",
      "расходы, если использовать МЛ: 153132800\n",
      "Расходы \"решение не делать тесты - расходы с МL:\" 20467200\n",
      "Расходы \"решение не делать тесты - расходы сделать тесты всем\": 18900000\n",
      "Расходы \"сделать тесты всем - решение делать тесты ML\": 1567200\n"
     ]
    },
    {
     "data": {
      "image/png": "[encoded data removed]",
      "text/plain": [
       "<Figure size 432x288 with 1 Axes>"
      ]
     },
     "metadata": {
      "needs_background": "light"
     },
     "output_type": "display_data"
    },
    {
     "name": "stdout",
     "output_type": "stream",
     "text": [
      "уровень порога по бизнес метрике 0.21052631578947367\n"
     ]
    }
   ],
   "source": [
    "for model in ['LogisticRegression', 'XGBoost', 'RandomForest']:\n",
    "    busines_tr = business_threshold_calibrate(model, y_test, result[model][10], result[model][9], \n",
    "                                            rubl_test=1400, \n",
    "                                            rubl_early_treatment=15000, \n",
    "                                            rubl_late_treatment=20000)\n",
    "\n",
    "print('уровень порога по бизнес метрике', busines_tr)"
   ]
  },
  {
   "cell_type": "markdown",
   "metadata": {
    "id": "Zz5nh2S_GU-w"
   },
   "source": [
    "В сравнении моделей по метрике \"экономия денег для бизнеса\" в лидерах бустинг над деревьями"
   ]
  }
 ],
 "metadata": {
  "colab": {
   "collapsed_sections": [],
   "name": "HW_3.ipynb",
   "provenance": [],
   "toc_visible": true
  },
  "kernelspec": {
   "display_name": "Python 3 (ipykernel)",
   "language": "python",
   "name": "python3"
  },
  "language_info": {
   "codemirror_mode": {
    "name": "ipython",
    "version": 3
   },
   "file_extension": ".py",
   "mimetype": "text/x-python",
   "name": "python",
   "nbconvert_exporter": "python",
   "pygments_lexer": "ipython3",
   "version": "3.9.12"
  }
 },
 "nbformat": 4,
 "nbformat_minor": 1
}
