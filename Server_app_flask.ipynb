{
 "cells": [
  {
   "cell_type": "code",
   "execution_count": 83,
   "id": "35b79283",
   "metadata": {},
   "outputs": [
    {
     "name": "stdout",
     "output_type": "stream",
     "text": [
      "Requirement already satisfied: gevent in c:\\users\\1\\appdata\\roaming\\python\\python39\\site-packages (22.10.2)\n",
      "Requirement already satisfied: zope.event in c:\\users\\1\\anaconda3\\lib\\site-packages (from gevent) (4.6)\n",
      "Requirement already satisfied: zope.interface in c:\\users\\1\\anaconda3\\lib\\site-packages (from gevent) (5.4.0)\n",
      "Requirement already satisfied: setuptools in c:\\users\\1\\anaconda3\\lib\\site-packages (from gevent) (61.2.0)\n",
      "Requirement already satisfied: greenlet>=2.0.0 in c:\\users\\1\\anaconda3\\lib\\site-packages (from gevent) (2.0.2)\n",
      "Requirement already satisfied: cffi>=1.12.2 in c:\\users\\1\\anaconda3\\lib\\site-packages (from gevent) (1.15.0)\n",
      "Requirement already satisfied: pycparser in c:\\users\\1\\anaconda3\\lib\\site-packages (from cffi>=1.12.2->gevent) (2.21)\n",
      "Note: you may need to restart the kernel to use updated packages.\n"
     ]
    },
    {
     "name": "stderr",
     "output_type": "stream",
     "text": [
      "\n",
      "[notice] A new release of pip is available: 23.1.1 -> 23.1.2\n",
      "[notice] To update, run: python.exe -m pip install --upgrade pip\n"
     ]
    }
   ],
   "source": [
    "pip install gevent --user"
   ]
  },
  {
   "cell_type": "code",
   "execution_count": 3,
   "id": "3287851c",
   "metadata": {},
   "outputs": [],
   "source": [
    "# import the necessary packages\n",
    "import dill\n",
    "import pandas as pd\n",
    "import os\n",
    "dill._dill._reverse_typemap['ClassType'] = type\n",
    "#import cloudpickle\n",
    "import flask\n",
    "import logging\n",
    "from logging.handlers import RotatingFileHandler\n",
    "from time import strftime\n",
    "import gevent\n",
    "from gevent.pywsgi import WSGIServer"
   ]
  },
  {
   "cell_type": "code",
   "execution_count": 8,
   "id": "34f9a083",
   "metadata": {},
   "outputs": [],
   "source": [
    "# initialize our Flask application and the model\n",
    "app = flask.Flask(__name__)\n",
    "model = None"
   ]
  },
  {
   "cell_type": "code",
   "execution_count": null,
   "id": "a741dd9c",
   "metadata": {},
   "outputs": [],
   "source": [
    "handler = RotatingFileHandler(filename='app.log', maxBytes=100000, backupCount=10)\n",
    "logger = logging.getLogger(__name__)\n",
    "logger.setLevel(logging.INFO)\n",
    "logger.addHandler(handler)\n",
    "\n",
    "def load_model(model_path):\n",
    "    # load the pre-trained model\n",
    "    global model\n",
    "    with open(model_path, 'rb') as f:\n",
    "        model = dill.load(f)\n",
    "    print(model)\n",
    "\n",
    "modelpath = \"C:/Users/1/Downloads/logreg_pipeline(2).dill\"\n",
    "load_model(modelpath)\n",
    "\n",
    "@app.route(\"/\", methods=[\"GET\"])\n",
    "def general():\n",
    "    return \"\"\"Welcome to TripAdvisor sentiment review predictions process. Please use 'http://<address>/predict' to POST\"\"\"\n",
    "\n",
    "@app.route(\"/predict\", methods=[\"POST\"])\n",
    "def predict():\n",
    "    # initialize the data dictionary that will be returned from the\n",
    "    # view\n",
    "    data = {\"success\": False}\n",
    "    dt = strftime(\"[%Y-%b-%d %H:%M:%S]\")\n",
    "    # ensure an image was properly uploaded to our endpoint\n",
    "    if flask.request.method == \"POST\":\n",
    "\n",
    "        age, ap_hi, ap_lo, cholesterol, gluc, smoke, alco = \"\", \"\", \"\", \"\", \"\", \"\", \"\"\n",
    "        request_json = flask.request.get_json()\n",
    "        if request_json[\"age\"]:\n",
    "                      age = request_json['age']\n",
    "\n",
    "        if request_json[\"ap_hi\"]:\n",
    "                      ap_hi = request_json['ap_hi']\n",
    "\n",
    "        if request_json[\"ap_lo\"]:\n",
    "                      ap_lo = request_json['ap_lo']\n",
    "            \n",
    "        if request_json[\"cholesterol\"]:\n",
    "                      cholesterol = request_json['cholesterol']\n",
    "            \n",
    "        if request_json[\"gluc\"]:\n",
    "                      gluc = request_json['gluc']\n",
    "            \n",
    "        if request_json[\"smoke\"]:\n",
    "                      smoke = request_json['smoke']\n",
    "                    \n",
    "        if request_json[\"alco\"]:\n",
    "                      alco = request_json['alco']\n",
    "\n",
    "        logger.info(f'{dt} Data: age={age}, ap_hi={ap_hi}, ap_lo={ap_lo}, cholesterol={cholesterol}, gluc={gluc}, smoke={smoke}, alco={alco}')\n",
    "        try:\n",
    "            preds = model.predict_proba(pd.DataFrame({'age': [age],\n",
    "                                                  'ap_hi': [ap_hi],\n",
    "                                                  'ap_lo': [ap_lo],\n",
    "                                                  'cholesterol': [cholesterol],\n",
    "                                                  'gluc': [gluc],\n",
    "                                                  'smoke': [smoke],\n",
    "                                                  'alco': [alco]}))\n",
    "        except AttributeError as e:\n",
    "                logger.warning(f'{dt} Exception: {str(e)}')\n",
    "                data['predictions'] = str(e)\n",
    "                data['success'] = False\n",
    "                return flask.jsonify(data)\n",
    "\n",
    "        data[\"predictions\"] = preds[:, 1][0]\n",
    "        # indicate that the request was a success\n",
    "        data[\"success\"] = True\n",
    "\n",
    "    # return the data dictionary as a JSON response\n",
    "    return flask.jsonify(data)\n",
    "\n",
    "# if this is the main thread of execution first load the model and\n",
    "# then start the server\n",
    "if __name__ == \"__main__\":\n",
    "    print((\"* Loading the model and Flask starting server...\"\n",
    "        \"please wait until server has fully started\"))\n",
    "    #port = int(os.environ.get('PORT', 8180))\n",
    "    #app.run(host='0.0.0.0', debug=True, port=port)\n",
    "    http_server = WSGIServer((\"127.0.0.1\", 8180), app)\n",
    "    http_server.serve_forever() "
   ]
  },
  {
   "cell_type": "code",
   "execution_count": null,
   "id": "50b6ee53",
   "metadata": {},
   "outputs": [],
   "source": []
  }
 ],
 "metadata": {
  "kernelspec": {
   "display_name": "Python 3 (ipykernel)",
   "language": "python",
   "name": "python3"
  },
  "language_info": {
   "codemirror_mode": {
    "name": "ipython",
    "version": 3
   },
   "file_extension": ".py",
   "mimetype": "text/x-python",
   "name": "python",
   "nbconvert_exporter": "python",
   "pygments_lexer": "ipython3",
   "version": "3.9.12"
  }
 },
 "nbformat": 4,
 "nbformat_minor": 5
}
